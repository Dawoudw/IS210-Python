{
 "cells": [
  {
   "cell_type": "code",
   "execution_count": 103,
   "metadata": {
    "collapsed": true
   },
   "outputs": [
    {
     "name": "stdout",
     "output_type": "stream",
     "text": [
      "(None, 'Hydrogen', 'Helium', 'Lithium', 'Beryllium', 'Boron', 'Carbon')\n",
      "['Parentheses', 'Exponents', 'Multiplication', 'Division', 'Addition', 'Subtraction']\n"
     ]
    }
   ],
   "source": [
    "#Adam Dawoud  #IS 210 Assignment 05\n",
    "\n",
    "#Task1\n",
    "ELEMENTS = (None, \"Hydrogen\", \"Helium\", \"Lithium\", \"Beryllium\", \"Boron\", \"Carbon\")\n",
    "print(ELEMENTS)\n",
    "\n",
    "OPERATIONS_ORDER = [\"Parentheses\", \"Exponents\", \"Multiplication\", \"Division\", \"Addition\", \"Subtraction\"]\n",
    "print(OPERATIONS_ORDER)"
   ]
  },
  {
   "cell_type": "code",
   "execution_count": 138,
   "outputs": [
    {
     "name": "stdout",
     "output_type": "stream",
     "text": [
      "(6, 2.0)\n"
     ]
    }
   ],
   "source": [
    "#Task 02 Solution 1: Using for loop\n",
    "def process_data(data) -> tuple():\n",
    "    sum = 0\n",
    "    for item in data:\n",
    "        sum += item\n",
    "    return (sum, round(sum / len(data), 2))\n",
    "\n",
    "\n",
    "print(process_data([1, 2, 3]))"
   ],
   "metadata": {
    "collapsed": false
   }
  },
  {
   "cell_type": "code",
   "execution_count": 124,
   "outputs": [
    {
     "name": "stdout",
     "output_type": "stream",
     "text": [
      "(6, 2.0)\n"
     ]
    }
   ],
   "source": [
    "#Task 02 Solution 2: In this solution, I check if each item in the list or tuple is an integer. Then get the sum and average of the valid items only.\n",
    "\n",
    "def process_data(data) -> tuple:\n",
    "    sum = 0\n",
    "    count_nums = 0\n",
    "    for item in data:\n",
    "        if isinstance(item, int) :\n",
    "            count_nums += 1\n",
    "            sum += item\n",
    "        else:\n",
    "            continue\n",
    "    if (count_nums > 0):\n",
    "        return (sum, round(sum / count_nums, 2))\n",
    "    else:\n",
    "        return (0, 0)\n",
    "\n",
    "\n",
    "print(process_data((1, 2, \"4\", 3,  5.5)))"
   ],
   "metadata": {
    "collapsed": false
   }
  },
  {
   "cell_type": "code",
   "execution_count": 137,
   "outputs": [
    {
     "name": "stdout",
     "output_type": "stream",
     "text": [
      "True\n",
      "[(3, 2, 1), 'cba']\n"
     ]
    }
   ],
   "source": [
    "#Task 03: Solution 1: Slicing the [:] assignment to make an in-place mutation of the to_flip (the original) list\n",
    "\n",
    "def flip_keys(to_flip:[])->list:\n",
    "        to_flip[:] = [item[::-1] for item in to_flip]\n",
    "        return to_flip\n",
    "\n",
    "LIST = [(1, 2, 3), 'abc']\n",
    "NEW = flip_keys(LIST)\n",
    "print(NEW is LIST)\n",
    "print(LIST)"
   ],
   "metadata": {
    "collapsed": false
   }
  },
  {
   "cell_type": "code",
   "execution_count": null,
   "outputs": [],
   "source": [],
   "metadata": {
    "collapsed": false
   }
  }
 ],
 "metadata": {
  "kernelspec": {
   "display_name": "Python 3 (ipykernel)",
   "language": "python",
   "name": "python3"
  },
  "language_info": {
   "codemirror_mode": {
    "name": "ipython",
    "version": 3
   },
   "file_extension": ".py",
   "mimetype": "text/x-python",
   "name": "python",
   "nbconvert_exporter": "python",
   "pygments_lexer": "ipython3",
   "version": "3.9.14"
  }
 },
 "nbformat": 4,
 "nbformat_minor": 1
}
