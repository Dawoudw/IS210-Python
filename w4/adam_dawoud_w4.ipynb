{
 "cells": [
  {
   "cell_type": "code",
   "execution_count": 37,
   "metadata": {
    "collapsed": true
   },
   "outputs": [
    {
     "name": "stdout",
     "output_type": "stream",
     "text": [
      "True\n",
      "True\n",
      "False\n"
     ]
    }
   ],
   "source": [
    "#Adam Dawoud  #IS 210 Assignment 04\n",
    "\n",
    "#Task1\n",
    "def too_many_kittens(kittens,  litterboxe, catfood):\n",
    "    return  not (litterboxe>=kittens and catfood)\n",
    "\n",
    "print(too_many_kittens(12,12,False))\n",
    "print(too_many_kittens(13,12,True))\n",
    "print(too_many_kittens(12,13,True))\n"
   ]
  },
  {
   "cell_type": "code",
   "execution_count": 44,
   "outputs": [
    {
     "name": "stdout",
     "output_type": "stream",
     "text": [
      "True\n",
      "False\n",
      "True\n"
     ]
    }
   ],
   "source": [
    "#Task2\n",
    "def defaults(my_required, my_optional=True):\n",
    "    return (my_optional is my_required)\n",
    "\n",
    "print(defaults(True))\n",
    "print(defaults(True,False))\n",
    "print(defaults(False, False))"
   ],
   "metadata": {
    "collapsed": false
   }
  },
  {
   "cell_type": "code",
   "execution_count": 41,
   "outputs": [
    {
     "name": "stdout",
     "output_type": "stream",
     "text": [
      "True\n",
      "True\n",
      "False\n"
     ]
    }
   ],
   "source": [
    "#Task 1 using Lambda\n",
    "too_many_kittens= lambda kittens,  litterboxe, catfood : not (litterboxe>=kittens and catfood)\n",
    "print(too_many_kittens(12,12,False))\n",
    "print(too_many_kittens(13,12,True))\n",
    "print(too_many_kittens(12,13,True))"
   ],
   "metadata": {
    "collapsed": false
   }
  },
  {
   "cell_type": "code",
   "execution_count": 43,
   "outputs": [
    {
     "name": "stdout",
     "output_type": "stream",
     "text": [
      "True\n",
      "False\n",
      "True\n"
     ]
    }
   ],
   "source": [
    "#Task 2 using Lambda\n",
    "defaults = lambda my_required, my_optional=True: my_optional is my_required\n",
    "print(defaults(True))\n",
    "print(defaults(True,False))\n",
    "print(defaults(False, False))"
   ],
   "metadata": {
    "collapsed": false
   }
  },
  {
   "cell_type": "code",
   "execution_count": 45,
   "outputs": [
    {
     "name": "stdout",
     "output_type": "stream",
     "text": [
      "True\n",
      "True\n",
      "False\n"
     ]
    }
   ],
   "source": [
    "#Task1 using params and return type\n",
    "def too_many_kittens(kittens:int,  litterboxe:int, catfood:bool)->bool:\n",
    "    return  not (litterboxe>=kittens and catfood)\n",
    "\n",
    "print(too_many_kittens(12,12,False))\n",
    "print(too_many_kittens(13,12,True))\n",
    "print(too_many_kittens(12,13,True))"
   ],
   "metadata": {
    "collapsed": false
   }
  },
  {
   "cell_type": "code",
   "execution_count": 46,
   "outputs": [
    {
     "name": "stdout",
     "output_type": "stream",
     "text": [
      "True\n",
      "False\n",
      "True\n"
     ]
    }
   ],
   "source": [
    "#Task2 using params and return type\n",
    "def defaults(my_required:bool, my_optional:bool=True)->bool:\n",
    "    return (my_optional is my_required)\n",
    "\n",
    "print(defaults(True))\n",
    "print(defaults(True,False))\n",
    "print(defaults(False, False))"
   ],
   "metadata": {
    "collapsed": false
   }
  }
 ],
 "metadata": {
  "kernelspec": {
   "display_name": "Python 3",
   "language": "python",
   "name": "python3"
  },
  "language_info": {
   "codemirror_mode": {
    "name": "ipython",
    "version": 2
   },
   "file_extension": ".py",
   "mimetype": "text/x-python",
   "name": "python",
   "nbconvert_exporter": "python",
   "pygments_lexer": "ipython2",
   "version": "2.7.6"
  }
 },
 "nbformat": 4,
 "nbformat_minor": 0
}
