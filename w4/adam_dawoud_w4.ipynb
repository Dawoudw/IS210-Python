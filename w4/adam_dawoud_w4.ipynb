{
 "cells": [
  {
   "cell_type": "code",
   "execution_count": 37,
   "metadata": {
    "collapsed": true
   },
   "outputs": [
    {
     "name": "stdout",
     "output_type": "stream",
     "text": [
      "True\n",
      "True\n",
      "False\n"
     ]
    }
   ],
   "source": [
    "#Adam Dawoud  #IS 210 Assignment 04\n",
    "\n",
    "def too_many_kittens(kittens:int,  litterboxe:int, catfood:bool):\n",
    "    return  not (litterboxe>=kittens and catfood)\n",
    "\n",
    "print(too_many_kittens(12,12,False))\n",
    "print(too_many_kittens(13,12,True))\n",
    "print(too_many_kittens(12,13,True))\n"
   ]
  },
  {
   "cell_type": "code",
   "execution_count": 38,
   "outputs": [
    {
     "name": "stdout",
     "output_type": "stream",
     "text": [
      "True\n",
      "False\n",
      "True\n"
     ]
    }
   ],
   "source": [
    "def defaults(my_required:bool, my_optional:bool=True):\n",
    "    return (my_optional is my_required)\n",
    "\n",
    "print(defaults(True))\n",
    "print(defaults(True,False))\n",
    "print(defaults(False, False))"
   ],
   "metadata": {
    "collapsed": false
   }
  },
  {
   "cell_type": "code",
   "execution_count": 38,
   "outputs": [],
   "source": [],
   "metadata": {
    "collapsed": false
   }
  }
 ],
 "metadata": {
  "kernelspec": {
   "display_name": "Python 3",
   "language": "python",
   "name": "python3"
  },
  "language_info": {
   "codemirror_mode": {
    "name": "ipython",
    "version": 2
   },
   "file_extension": ".py",
   "mimetype": "text/x-python",
   "name": "python",
   "nbconvert_exporter": "python",
   "pygments_lexer": "ipython2",
   "version": "2.7.6"
  }
 },
 "nbformat": 4,
 "nbformat_minor": 0
}
