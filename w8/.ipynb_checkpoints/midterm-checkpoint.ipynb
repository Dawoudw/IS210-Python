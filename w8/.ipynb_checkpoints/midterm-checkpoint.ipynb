{
 "cells": [
  {
   "cell_type": "code",
   "execution_count": 2,
   "metadata": {
    "collapsed": true
   },
   "outputs": [],
   "source": [
    "def my_enclosing()  :\n",
    "    def  my_func  (  x  ,  y  ):\n",
    "        return  x  *  y"
   ]
  },
  {
   "cell_type": "code",
   "execution_count": 1,
   "metadata": {},
   "outputs": [
    {
     "name": "stdout",
     "output_type": "stream",
     "text": [
      "0.3333333333333333333333333333\n",
      "0.3333333333333333\n",
      "0.3333333333333333\n",
      "1/3\n"
     ]
    }
   ],
   "source": [
    "import fractions\n",
    "import decimal\n",
    "\n",
    "print( decimal.Decimal(1.0) / decimal.Decimal(3.0))\n",
    "print(1.0/3.0)\n",
    "print(1/3)\n",
    "print(fractions.Fraction(1, 3))"
   ]
  },
  {
   "cell_type": "code",
   "execution_count": 7,
   "metadata": {},
   "outputs": [
    {
     "name": "stdout",
     "output_type": "stream",
     "text": [
      "000001 is the lonliest number\n"
     ]
    }
   ],
   "source": [
    "print('{0:06d} is the lonliest {1}'.format(1, 'number'))"
   ]
  },
  {
   "cell_type": "code",
   "execution_count": 14,
   "metadata": {},
   "outputs": [
    {
     "name": "stdout",
     "output_type": "stream",
     "text": [
      "swoop\n"
     ]
    }
   ],
   "source": [
    "x = 'sludge n'\n",
    "if (True == False)  :\n",
    "    x = 'slag'\n",
    "elif True and not False:\n",
    "    x = 'swoop'\n",
    "else:\n",
    "    x = 'grimlock'\n",
    "\n",
    "print(x)"
   ]
  },
  {
   "cell_type": "code",
   "execution_count": 15,
   "metadata": {},
   "outputs": [
    {
     "name": "stdout",
     "output_type": "stream",
     "text": [
      "peach\n"
     ]
    }
   ],
   "source": [
    "x = 'apple'\n",
    "if False:\n",
    "    x = 'pear'\n",
    "elif '':\n",
    "    x = 'plum'\n",
    "x = 'peach'\n",
    "\n",
    "print(x)"
   ]
  },
  {
   "cell_type": "code",
   "execution_count": 17,
   "metadata": {},
   "outputs": [],
   "source": [
    "def my_enclosing()  :\n",
    "     def  my_func  (  x  ,  y  ):\n",
    "        x=10\n",
    "        y=20\n",
    "        print(x  *  y)\n",
    "        return  x  *  y\n",
    "\n",
    "my_enclosing()"
   ]
  },
  {
   "cell_type": "code",
   "execution_count": null,
   "metadata": {},
   "outputs": [],
   "source": []
  }
 ],
 "metadata": {
  "kernelspec": {
   "display_name": "Python 3 (ipykernel)",
   "language": "python",
   "name": "python3"
  },
  "language_info": {
   "codemirror_mode": {
    "name": "ipython",
    "version": 3
   },
   "file_extension": ".py",
   "mimetype": "text/x-python",
   "name": "python",
   "nbconvert_exporter": "python",
   "pygments_lexer": "ipython3",
   "version": "3.11.0rc2"
  }
 },
 "nbformat": 4,
 "nbformat_minor": 1
}
