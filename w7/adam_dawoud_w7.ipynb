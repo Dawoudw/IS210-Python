{
 "cells": [
  {
   "cell_type": "code",
   "execution_count": 37,
   "metadata": {
    "collapsed": true
   },
   "outputs": [
    {
     "name": "stdout",
     "output_type": "stream",
     "text": [
      "Your status is currently: Warning!\n"
     ]
    }
   ],
   "source": [
    "#Adam Dawoud  #IS 210 Assignment 07\n",
    "#Task1\n",
    "BP_STATUS = \"\"\n",
    "\n",
    "\n",
    "def calc_bp():\n",
    "    try:\n",
    "        bp = int(input(\"What is your blood pressure?\"))\n",
    "        if (bp <= 89):\n",
    "            BP_STATUS = \"Low\"\n",
    "        elif (90 <= bp <= 119):\n",
    "            BP_STATUS = \"Ideal\"\n",
    "        elif (120 <= bp <= 139):\n",
    "            BP_STATUS = \"Warning\"\n",
    "        elif (140 <= bp <= 159):\n",
    "            BP_STATUS = \"High\"\n",
    "        else:\n",
    "            BP_STATUS = \"Emergency\"\n",
    "        print(\"Your status is currently: {st}!\".format(st=BP_STATUS))\n",
    "    except ValueError:\n",
    "        print(\"Please input integer value only...\")\n",
    "\n",
    "\n",
    "calc_bp()\n",
    "\n"
   ]
  },
  {
   "cell_type": "code",
   "execution_count": null,
   "outputs": [],
   "source": [],
   "metadata": {
    "collapsed": false,
    "pycharm": {
     "is_executing": true
    }
   }
  },
  {
   "cell_type": "code",
   "execution_count": 11,
   "outputs": [],
   "source": [],
   "metadata": {
    "collapsed": false
   }
  }
 ],
 "metadata": {
  "kernelspec": {
   "display_name": "Python 3",
   "language": "python",
   "name": "python3"
  },
  "language_info": {
   "codemirror_mode": {
    "name": "ipython",
    "version": 2
   },
   "file_extension": ".py",
   "mimetype": "text/x-python",
   "name": "python",
   "nbconvert_exporter": "python",
   "pygments_lexer": "ipython2",
   "version": "2.7.6"
  }
 },
 "nbformat": 4,
 "nbformat_minor": 0
}
