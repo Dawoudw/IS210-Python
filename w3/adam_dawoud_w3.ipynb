{
 "cells": [
  {
   "cell_type": "code",
   "execution_count": 122,
   "metadata": {
    "collapsed": true
   },
   "outputs": [
    {
     "name": "stdout",
     "output_type": "stream",
     "text": [
      "Nevermore!\n"
     ]
    }
   ],
   "source": [
    "#Adam Dawoud / IS210 Assignment 03\n",
    "\n",
    "#Task 1\n",
    "RAVEN= \"quoth\"\n",
    "RAVEN=\"Nevermore!\"\n",
    "print(RAVEN)"
   ]
  },
  {
   "cell_type": "code",
   "execution_count": 1,
   "outputs": [
    {
     "name": "stdout",
     "output_type": "stream",
     "text": [
      "52\n"
     ]
    }
   ],
   "source": [
    "#Task 02\n",
    "WEEKS= ((19%10)+100+(2**8))//7\n",
    "print(WEEKS)"
   ],
   "metadata": {
    "collapsed": false
   }
  },
  {
   "cell_type": "code",
   "execution_count": 124,
   "outputs": [
    {
     "name": "stdout",
     "output_type": "stream",
     "text": [
      "Danger \n"
     ]
    }
   ],
   "source": [
    "#Task 03\n",
    "WILL_ROBINSON = 'Danger Will Robinson!'\n",
    "KLAXON = WILL_ROBINSON[:7]\n",
    "print(KLAXON)"
   ],
   "metadata": {
    "collapsed": false
   }
  },
  {
   "cell_type": "code",
   "execution_count": 125,
   "outputs": [
    {
     "name": "stdout",
     "output_type": "stream",
     "text": [
      "Danger Danger Danger Danger Danger \n"
     ]
    }
   ],
   "source": [
    "#Task 04\n",
    "print(KLAXON*5)"
   ],
   "metadata": {
    "collapsed": false
   }
  },
  {
   "cell_type": "code",
   "execution_count": 126,
   "outputs": [
    {
     "name": "stdout",
     "output_type": "stream",
     "text": [
      "['Michaelangelo', 'Leonardo', 'Rafael', 'Donatello', 'Heroes in a half shell.']\n"
     ]
    }
   ],
   "source": [
    "#Task 05\n",
    "TEENAGE_MUTANT_NINJAS = ('Michaelangelo. Leonardo. Rafael. Donatello. Heroes ' 'in a half shell.')\n",
    "TURTLE_POWER = TEENAGE_MUTANT_NINJAS.split('. ')\n",
    "print(TURTLE_POWER)"
   ],
   "metadata": {
    "collapsed": false
   }
  },
  {
   "cell_type": "code",
   "execution_count": 127,
   "outputs": [
    {
     "name": "stdout",
     "output_type": "stream",
     "text": [
      "A long-tailed cat in a room full of rockin' chairs.\n"
     ]
    }
   ],
   "source": [
    "#Task 06\n",
    "NERVOUS_AS = \"\"\"//////////A long-tailed cat in a room full of rockin' chairs.,,,,,,,,,, \"\"\"\n",
    "NERVOUS_AS= NERVOUS_AS.strip().lstrip('/').rstrip(\",\")\n",
    "print(NERVOUS_AS)"
   ],
   "metadata": {
    "collapsed": false
   }
  },
  {
   "cell_type": "code",
   "execution_count": 128,
   "outputs": [
    {
     "name": "stdout",
     "output_type": "stream",
     "text": [
      "Dr. Strangelove Or: How I Learned To Stop Worrying And Love The Bomb\n"
     ]
    }
   ],
   "source": [
    "#Task 07\n",
    "MOVIE = \"dr. strangelove or: how i learned to stop worrying and love the bomb\"\n",
    "ENTITLED = MOVIE.title()\n",
    "print(ENTITLED)"
   ],
   "metadata": {
    "collapsed": false
   }
  },
  {
   "cell_type": "code",
   "execution_count": 129,
   "outputs": [
    {
     "name": "stdout",
     "output_type": "stream",
     "text": [
      "True\n",
      "False\n",
      "None\n",
      "True\n"
     ]
    }
   ],
   "source": [
    "#Task 08\n",
    "IS_TRUE = True\n",
    "IS_FALSE = False\n",
    "IS_NONE = None\n",
    "INTEGER_EQUIV = (IS_TRUE==1 and IS_FALSE==0)\n",
    "\n",
    "print(IS_TRUE)\n",
    "print(IS_FALSE)\n",
    "print(IS_NONE)\n",
    "print(INTEGER_EQUIV)\n"
   ],
   "metadata": {
    "collapsed": false
   }
  },
  {
   "cell_type": "code",
   "execution_count": 129,
   "outputs": [],
   "source": [],
   "metadata": {
    "collapsed": false
   }
  }
 ],
 "metadata": {
  "kernelspec": {
   "display_name": "Python 3",
   "language": "python",
   "name": "python3"
  },
  "language_info": {
   "codemirror_mode": {
    "name": "ipython",
    "version": 2
   },
   "file_extension": ".py",
   "mimetype": "text/x-python",
   "name": "python",
   "nbconvert_exporter": "python",
   "pygments_lexer": "ipython2",
   "version": "2.7.6"
  }
 },
 "nbformat": 4,
 "nbformat_minor": 0
}
