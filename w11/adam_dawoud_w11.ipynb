{
 "cells": [
  {
   "cell_type": "code",
   "execution_count": 487,
   "metadata": {
    "collapsed": true
   },
   "outputs": [],
   "source": [
    "#Adam Dawoud  #IS 210 Assignment 11\n",
    "#Task1\n",
    "class Car:\n",
    "    def __init__(self, color='red'):\n",
    "        self.color = color\n"
   ]
  },
  {
   "cell_type": "code",
   "execution_count": 488,
   "outputs": [],
   "source": [
    "class Tire:\n",
    "    def __init__(self, miles=0):\n",
    "        self.miles = miles\n",
    "\n",
    "    def add_miles(self, miles):\n",
    "        self.miles += miles"
   ],
   "metadata": {
    "collapsed": false
   }
  },
  {
   "cell_type": "markdown",
   "source": [],
   "metadata": {
    "collapsed": false
   }
  },
  {
   "cell_type": "code",
   "execution_count": 489,
   "outputs": [],
   "source": [
    "class CustomTire(Tire):\n",
    "    __maximum_miles = 500\n",
    "\n",
    "    def __init__(self, miles=0):\n",
    "        Tire.__init__(self, miles)"
   ],
   "metadata": {
    "collapsed": false
   }
  },
  {
   "cell_type": "code",
   "execution_count": 490,
   "outputs": [],
   "source": [
    "class CustomCar(Car):\n",
    "    tires: list[CustomTire] = []\n",
    "\n",
    "    def __init__(self, color='', tires_arg: list[CustomTire] = None):\n",
    "        Car.__init__(self, color)\n",
    "        if tires_arg is None:\n",
    "            self.tires.append(CustomTire())\n",
    "            self.tires.append(CustomTire(400))\n",
    "            self.tires.append(CustomTire(154))\n",
    "            self.tires.append(CustomTire())\n",
    "        else:\n",
    "            self.tires = tires_arg\n"
   ],
   "metadata": {
    "collapsed": false
   }
  },
  {
   "cell_type": "code",
   "execution_count": 491,
   "outputs": [
    {
     "name": "stdout",
     "output_type": "stream",
     "text": [
      "4\n"
     ]
    },
    {
     "data": {
      "text/plain": "True"
     },
     "execution_count": 491,
     "metadata": {},
     "output_type": "execute_result"
    }
   ],
   "source": [
    "# t1 = CustomTire(10)\n",
    "# t2 = CustomTire(20)\n",
    "# t3 = CustomTire(40)\n",
    "# tires:list[CustomTire] = [t1,t2,t3]\n",
    "# mycar = CustomCar(tires)\n",
    "# mycar = CustomCar('green')\n",
    "# mycar = CustomCar('green',tires)\n",
    "# print(mycar.color)\n",
    "# print(mycar.tires[2].miles)\n",
    "\n",
    "mycar = CustomCar()\n",
    "print(len(mycar.tires))\n",
    "isinstance(mycar.tires[0], CustomTire)"
   ],
   "metadata": {
    "collapsed": false
   }
  }
 ],
 "metadata": {
  "kernelspec": {
   "display_name": "Python 3",
   "language": "python",
   "name": "python3"
  },
  "language_info": {
   "codemirror_mode": {
    "name": "ipython",
    "version": 2
   },
   "file_extension": ".py",
   "mimetype": "text/x-python",
   "name": "python",
   "nbconvert_exporter": "python",
   "pygments_lexer": "ipython2",
   "version": "2.7.6"
  }
 },
 "nbformat": 4,
 "nbformat_minor": 0
}
