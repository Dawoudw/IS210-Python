{
 "cells": [
  {
   "cell_type": "code",
   "execution_count": 36,
   "outputs": [
    {
     "name": "stdout",
     "output_type": "stream",
     "text": [
      "[0, 1, 1, 2, 3, 5, 8]\n"
     ]
    }
   ],
   "source": [
    "#Adam Dawoud  #IS 210 Assignment 06\n",
    "#Task1\n",
    "\n",
    "\n",
    "def fibonacci(maxint: int):\n",
    "    final_result: list() = []\n",
    "    i = 0\n",
    "    first_num = 0\n",
    "    second_num = 1\n",
    "    while i < maxint:\n",
    "        if i <= 1:\n",
    "            current_feb = i\n",
    "        else:\n",
    "            current_feb = first_num + second_num\n",
    "            first_num = second_num\n",
    "            second_num = current_feb\n",
    "        if current_feb <= maxint:\n",
    "            final_result.append(current_feb)\n",
    "        else:\n",
    "            break\n",
    "        i += 1\n",
    "    print(final_result)\n",
    "\n",
    "\n",
    "fibonacci(10)"
   ],
   "metadata": {
    "collapsed": false
   }
  },
  {
   "cell_type": "code",
   "execution_count": 95,
   "outputs": [
    {
     "name": "stdout",
     "output_type": "stream",
     "text": [
      "(5, 3, 4.0)\n"
     ]
    }
   ],
   "source": [
    "#Task2 Solution 1\n",
    "\n",
    "def lexicographics(to_analyze: str):\n",
    "    lines: [] = to_analyze.splitlines()\n",
    "    result_tuple: () = ()\n",
    "    line_len = len(lines)\n",
    "    # print(lines)\n",
    "    if line_len>0:\n",
    "        longest_line = max(len(st.split(' ')) for st in lines)\n",
    "        shortest_line = min(len(st.split(' ')) for st in lines)\n",
    "        total = sum(len(st.split(' ')) for st in lines)\n",
    "        avg = 0 if len(lines) <= 0 else total / line_len\n",
    "        result_tuple = (longest_line, shortest_line, avg)\n",
    "    else:\n",
    "        result_tuple = (0, 0, 0)\n",
    "    print(result_tuple)\n",
    "\n",
    "\n",
    "lexicographics('''Don't stop believing,\n",
    "Hold on to that feeling.''')"
   ],
   "metadata": {
    "collapsed": false
   }
  },
  {
   "cell_type": "code",
   "execution_count": 96,
   "outputs": [
    {
     "name": "stdout",
     "output_type": "stream",
     "text": [
      "(5, 3, 4.0)\n"
     ]
    }
   ],
   "source": [
    "#Task2 Solution 2\n",
    "import sys\n",
    "\n",
    "\n",
    "def lexicographics(to_analyze: str):\n",
    "    lines: [] = to_analyze.splitlines()\n",
    "    result_tuple: () = ()\n",
    "    line_len = len(lines)\n",
    "    # print(lines)\n",
    "    if line_len > 0:\n",
    "        longest_line = -sys.maxsize - 1\n",
    "        shortest_line = sys.maxsize\n",
    "        total = 0\n",
    "        # words:list = lines.split(' ')\n",
    "        for st in lines:\n",
    "            l = len(st.split(' '))\n",
    "            total += l\n",
    "            if l > longest_line:\n",
    "                longest_line = l\n",
    "            if l < shortest_line:\n",
    "                shortest_line = l\n",
    "            result_tuple = (longest_line, shortest_line, total / line_len)\n",
    "    else:\n",
    "        result_tuple = (0, 0, 0)\n",
    "    print(result_tuple)\n",
    "\n",
    "\n",
    "lexicographics('''Don't stop believing,\n",
    "Hold on to that feeling.''')"
   ],
   "metadata": {
    "collapsed": false
   }
  },
  {
   "cell_type": "code",
   "execution_count": null,
   "outputs": [],
   "source": [],
   "metadata": {
    "collapsed": false
   }
  }
 ],
 "metadata": {
  "kernelspec": {
   "display_name": "Python 3",
   "language": "python",
   "name": "python3"
  },
  "language_info": {
   "codemirror_mode": {
    "name": "ipython",
    "version": 2
   },
   "file_extension": ".py",
   "mimetype": "text/x-python",
   "name": "python",
   "nbconvert_exporter": "python",
   "pygments_lexer": "ipython2",
   "version": "2.7.6"
  }
 },
 "nbformat": 4,
 "nbformat_minor": 0
}
