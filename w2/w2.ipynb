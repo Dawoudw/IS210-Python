{
 "cells": [
  {
   "cell_type": "code",
   "execution_count": null,
   "metadata": {
    "collapsed": true
   },
   "outputs": [],
   "source": [
    "import np as np\n",
    "\n",
    "location = input(\"Where are you from?\")\n",
    "greetings = [\n",
    "    \"is very nice nice place!\",\n",
    "    \"has the best food.\",\n",
    "    \"combines spectacular sightseeing and superb hospitality.\",\n",
    "    \"is too cold for me.\"\n",
    "]\n",
    "item = np.random.choice(greetings)\n",
    "print(location,item)"
   ]
  },
  {
   "cell_type": "code",
   "execution_count": null,
   "outputs": [],
   "source": [],
   "metadata": {
    "collapsed": false
   }
  }
 ],
 "metadata": {
  "kernelspec": {
   "display_name": "Python 3",
   "language": "python",
   "name": "python3"
  },
  "language_info": {
   "codemirror_mode": {
    "name": "ipython",
    "version": 2
   },
   "file_extension": ".py",
   "mimetype": "text/x-python",
   "name": "python",
   "nbconvert_exporter": "python",
   "pygments_lexer": "ipython2",
   "version": "2.7.6"
  }
 },
 "nbformat": 4,
 "nbformat_minor": 0
}
