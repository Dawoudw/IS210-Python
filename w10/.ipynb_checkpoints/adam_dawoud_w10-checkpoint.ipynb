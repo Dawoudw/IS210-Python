{
 "cells": [
  {
   "cell_type": "code",
   "execution_count": 26,
   "metadata": {
    "collapsed": true
   },
   "outputs": [
    {
     "name": "stdout",
     "output_type": "stream",
     "text": [
      "Warning: Your index/key doesn't exist.\n",
      " [1, 2]\n",
      "Warning: Your index/key doesn't exist.\n",
      " {}\n"
     ]
    }
   ],
   "source": [
    "#Adam Dawoud  #IS 210 Assignment 10\n",
    "#Task1\n",
    "\n",
    "def simple_lookup(var1, var2):\n",
    "    try:\n",
    "        val = var1[var2]\n",
    "    except  IndexError:\n",
    "        print(\"Warning: Your index/key doesn't exist.\\n\", var1)\n",
    "    except   KeyError:\n",
    "        print(\"Warning: Your index/key doesn't exist.\\n\", var1)\n",
    "    except Exception as e:\n",
    "        print(e)\n",
    "    else:\n",
    "        return val\n",
    "\n",
    "\n",
    "simple_lookup([1, 2], 4)\n",
    "simple_lookup({}, 'banana')"
   ]
  },
  {
   "cell_type": "code",
   "execution_count": 49,
   "metadata": {},
   "outputs": [
    {
     "ename": "SyntaxError",
     "evalue": "expected 'except' or 'finally' block (3365699374.py, line 15)",
     "output_type": "error",
     "traceback": [
      "\u001b[0;36m  Cell \u001b[0;32mIn [49], line 15\u001b[0;36m\u001b[0m\n\u001b[0;31m    else:\u001b[0m\n\u001b[0m    ^\u001b[0m\n\u001b[0;31mSyntaxError\u001b[0m\u001b[0;31m:\u001b[0m expected 'except' or 'finally' block\n"
     ]
    }
   ],
   "source": [
    "#Task2\n",
    "import datetime\n",
    "\n",
    "\n",
    "class InvalidAgeError(Exception):\n",
    "    pass\n",
    "\n",
    "\n",
    "def get_age(birthyear):\n",
    "    try:\n",
    "        age = datetime.datetime.now().year - birthyear\n",
    "        if age < 0:\n",
    "            raise InvalidAgeError\n",
    "    except Exception as e:\n",
    "        print(e.)\n",
    "    else:\n",
    "        return age\n",
    "\n",
    "\n",
    "get_age(2033)"
   ]
  },
  {
   "cell_type": "code",
   "execution_count": null,
   "metadata": {},
   "outputs": [],
   "source": []
  }
 ],
 "metadata": {
  "kernelspec": {
   "display_name": "Python 3 (ipykernel)",
   "language": "python",
   "name": "python3"
  },
  "language_info": {
   "codemirror_mode": {
    "name": "ipython",
    "version": 3
   },
   "file_extension": ".py",
   "mimetype": "text/x-python",
   "name": "python",
   "nbconvert_exporter": "python",
   "pygments_lexer": "ipython3",
   "version": "3.11.0rc2"
  }
 },
 "nbformat": 4,
 "nbformat_minor": 1
}
