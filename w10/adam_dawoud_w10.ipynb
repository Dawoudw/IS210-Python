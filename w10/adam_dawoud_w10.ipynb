{
 "cells": [
  {
   "cell_type": "code",
   "execution_count": 26,
   "metadata": {
    "collapsed": true
   },
   "outputs": [
    {
     "name": "stdout",
     "output_type": "stream",
     "text": [
      "Warning: Your index/key doesn't exist.\n",
      " [1, 2]\n",
      "Warning: Your index/key doesn't exist.\n",
      " {}\n"
     ]
    }
   ],
   "source": [
    "#Adam Dawoud  #IS 210 Assignment 10\n",
    "#Task1\n",
    "\n",
    "def simple_lookup(var1, var2):\n",
    "    try:\n",
    "        val = var1[var2]\n",
    "    except  IndexError:\n",
    "        print(\"Warning: Your index/key doesn't exist.\\n\", var1)\n",
    "    except   KeyError:\n",
    "        print(\"Warning: Your index/key doesn't exist.\\n\", var1)\n",
    "    except Exception as e:\n",
    "        print(e)\n",
    "    else:\n",
    "        return val\n",
    "\n",
    "\n",
    "simple_lookup([1, 2], 4)\n",
    "simple_lookup({}, 'banana')"
   ]
  },
  {
   "cell_type": "code",
   "execution_count": 162,
   "metadata": {},
   "outputs": [
    {
     "name": "stderr",
     "output_type": "stream",
     "text": [
      "Traceback (most recent call last):\n",
      "  File \"/var/folders/tj/39q_vkq941b11s2bbs_6pf_40000gp/T/ipykernel_78211/1969906045.py\", line 15, in get_age\n",
      "    raise InvalidAgeError\n",
      "InvalidAgeError\n"
     ]
    }
   ],
   "source": [
    "#Task2\n",
    "import datetime\n",
    "import traceback\n",
    "\n",
    "class InvalidAgeError(Exception):\n",
    "    pass\n",
    "\n",
    "\n",
    "def get_age(birthyear):\n",
    "    try:\n",
    "        age = datetime.datetime.now().year - birthyear\n",
    "        if age >= 0:\n",
    "            return age\n",
    "        else:\n",
    "            raise InvalidAgeError\n",
    "    except InvalidAgeError as e:\n",
    "        traceback.print_exception(e)\n",
    "    except Exception as e:\n",
    "        print(e)\n",
    "\n",
    "\n",
    "get_age(2033)"
   ]
  },
  {
   "cell_type": "code",
   "execution_count": 178,
   "metadata": {},
   "outputs": [
    {
     "name": "stdout",
     "output_type": "stream",
     "text": [
      "Traceback (most recent call last):\n",
      "  File \"/var/folders/tj/39q_vkq941b11s2bbs_6pf_40000gp/T/ipykernel_78211/3471489387.py\", line 14, in get_age\n",
      "    raise InvalidAgeError\n",
      "InvalidAgeError\n"
     ]
    }
   ],
   "source": [
    "import datetime\n",
    "import traceback ,sys\n",
    "\n",
    "class InvalidAgeError(Exception):\n",
    "    pass\n",
    "\n",
    "\n",
    "def get_age(birthyear):\n",
    "    try:\n",
    "        age = datetime.datetime.now().year - birthyear\n",
    "        if age >= 0:\n",
    "            return age\n",
    "        else:\n",
    "            raise InvalidAgeError\n",
    "    except InvalidAgeError as e:\n",
    "         traceback.print_exc(file=sys.stdout)\n",
    "    except Exception as e:\n",
    "        print(e)\n",
    "\n",
    "\n",
    "get_age(2033)"
   ]
  },
  {
   "cell_type": "code",
   "execution_count": null,
   "metadata": {
    "pycharm": {
     "is_executing": true
    }
   },
   "outputs": [],
   "source": []
  },
  {
   "cell_type": "code",
   "execution_count": 175,
   "outputs": [],
   "source": [],
   "metadata": {
    "collapsed": false
   }
  }
 ],
 "metadata": {
  "kernelspec": {
   "display_name": "Python 3 (ipykernel)",
   "language": "python",
   "name": "python3"
  },
  "language_info": {
   "codemirror_mode": {
    "name": "ipython",
    "version": 3
   },
   "file_extension": ".py",
   "mimetype": "text/x-python",
   "name": "python",
   "nbconvert_exporter": "python",
   "pygments_lexer": "ipython3",
   "version": "3.11.0rc2"
  }
 },
 "nbformat": 4,
 "nbformat_minor": 1
}
